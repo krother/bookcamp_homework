{
 "cells": [
  {
   "cell_type": "markdown",
   "metadata": {},
   "source": [
    "# Classification"
   ]
  },
  {
   "cell_type": "code",
   "execution_count": 1,
   "metadata": {},
   "outputs": [],
   "source": [
    "import pandas as pd\n",
    "import numpy as np\n",
    "import seaborn as sns\n",
    "\n",
    "from sklearn.model_selection import train_test_split\n",
    "from sklearn.linear_model import LogisticRegression\n",
    "from sklearn.preprocessing import OneHotEncoder, MinMaxScaler\n",
    "from sklearn.compose import ColumnTransformer\n",
    "from sklearn.pipeline import make_pipeline"
   ]
  },
  {
   "cell_type": "code",
   "execution_count": 2,
   "metadata": {},
   "outputs": [],
   "source": [
    "df = pd.read_csv('AB_NYC_2019.csv')"
   ]
  },
  {
   "cell_type": "code",
   "execution_count": 3,
   "metadata": {},
   "outputs": [
    {
     "data": {
      "text/html": [
       "<div>\n",
       "<style scoped>\n",
       "    .dataframe tbody tr th:only-of-type {\n",
       "        vertical-align: middle;\n",
       "    }\n",
       "\n",
       "    .dataframe tbody tr th {\n",
       "        vertical-align: top;\n",
       "    }\n",
       "\n",
       "    .dataframe thead th {\n",
       "        text-align: right;\n",
       "    }\n",
       "</style>\n",
       "<table border=\"1\" class=\"dataframe\">\n",
       "  <thead>\n",
       "    <tr style=\"text-align: right;\">\n",
       "      <th></th>\n",
       "      <th>neighbourhood_group</th>\n",
       "      <th>room_type</th>\n",
       "      <th>latitude</th>\n",
       "      <th>longitude</th>\n",
       "      <th>price</th>\n",
       "      <th>minimum_nights</th>\n",
       "      <th>number_of_reviews</th>\n",
       "      <th>reviews_per_month</th>\n",
       "      <th>calculated_host_listings_count</th>\n",
       "      <th>availability_365</th>\n",
       "    </tr>\n",
       "  </thead>\n",
       "  <tbody>\n",
       "    <tr>\n",
       "      <th>0</th>\n",
       "      <td>Brooklyn</td>\n",
       "      <td>Private room</td>\n",
       "      <td>40.64749</td>\n",
       "      <td>-73.97237</td>\n",
       "      <td>149</td>\n",
       "      <td>1</td>\n",
       "      <td>9</td>\n",
       "      <td>0.21</td>\n",
       "      <td>6</td>\n",
       "      <td>365</td>\n",
       "    </tr>\n",
       "    <tr>\n",
       "      <th>1</th>\n",
       "      <td>Manhattan</td>\n",
       "      <td>Entire home/apt</td>\n",
       "      <td>40.75362</td>\n",
       "      <td>-73.98377</td>\n",
       "      <td>225</td>\n",
       "      <td>1</td>\n",
       "      <td>45</td>\n",
       "      <td>0.38</td>\n",
       "      <td>2</td>\n",
       "      <td>355</td>\n",
       "    </tr>\n",
       "    <tr>\n",
       "      <th>2</th>\n",
       "      <td>Manhattan</td>\n",
       "      <td>Private room</td>\n",
       "      <td>40.80902</td>\n",
       "      <td>-73.94190</td>\n",
       "      <td>150</td>\n",
       "      <td>3</td>\n",
       "      <td>0</td>\n",
       "      <td>NaN</td>\n",
       "      <td>1</td>\n",
       "      <td>365</td>\n",
       "    </tr>\n",
       "  </tbody>\n",
       "</table>\n",
       "</div>"
      ],
      "text/plain": [
       "  neighbourhood_group        room_type  latitude  longitude  price  \\\n",
       "0            Brooklyn     Private room  40.64749  -73.97237    149   \n",
       "1           Manhattan  Entire home/apt  40.75362  -73.98377    225   \n",
       "2           Manhattan     Private room  40.80902  -73.94190    150   \n",
       "\n",
       "   minimum_nights  number_of_reviews  reviews_per_month  \\\n",
       "0               1                  9               0.21   \n",
       "1               1                 45               0.38   \n",
       "2               3                  0                NaN   \n",
       "\n",
       "   calculated_host_listings_count  availability_365  \n",
       "0                               6               365  \n",
       "1                               2               355  \n",
       "2                               1               365  "
      ]
     },
     "execution_count": 3,
     "metadata": {},
     "output_type": "execute_result"
    }
   ],
   "source": [
    "df = df[['neighbourhood_group', 'room_type', 'latitude', 'longitude', 'price', 'minimum_nights',\n",
    "         'number_of_reviews', 'reviews_per_month', 'calculated_host_listings_count', 'availability_365']]\n",
    "df.head(3)"
   ]
  },
  {
   "cell_type": "code",
   "execution_count": 4,
   "metadata": {},
   "outputs": [
    {
     "data": {
      "text/plain": [
       "(48895, 10)"
      ]
     },
     "execution_count": 4,
     "metadata": {},
     "output_type": "execute_result"
    }
   ],
   "source": [
    "df.shape"
   ]
  },
  {
   "cell_type": "code",
   "execution_count": 5,
   "metadata": {},
   "outputs": [],
   "source": [
    "df['reviews_per_month'].fillna(0.0, inplace=True)"
   ]
  },
  {
   "cell_type": "markdown",
   "metadata": {},
   "source": [
    "### Question 1\n",
    "\n",
    "What is the most frequent observation (mode) for the column 'neighbourhood_group'?"
   ]
  },
  {
   "cell_type": "code",
   "execution_count": 6,
   "metadata": {},
   "outputs": [
    {
     "data": {
      "text/plain": [
       "Manhattan        21661\n",
       "Brooklyn         20104\n",
       "Queens            5666\n",
       "Bronx             1091\n",
       "Staten Island      373\n",
       "Name: neighbourhood_group, dtype: int64"
      ]
     },
     "execution_count": 6,
     "metadata": {},
     "output_type": "execute_result"
    }
   ],
   "source": [
    "df['neighbourhood_group'].value_counts()"
   ]
  },
  {
   "cell_type": "markdown",
   "metadata": {},
   "source": [
    "### Train-Test-Split"
   ]
  },
  {
   "cell_type": "code",
   "execution_count": 7,
   "metadata": {},
   "outputs": [],
   "source": [
    "X = df[['neighbourhood_group', 'room_type', 'latitude', 'longitude', 'minimum_nights',\n",
    "         'number_of_reviews', 'reviews_per_month', 'calculated_host_listings_count', 'availability_365']]\n",
    "y = df['price']"
   ]
  },
  {
   "cell_type": "code",
   "execution_count": 8,
   "metadata": {},
   "outputs": [],
   "source": [
    "Xtv, Xtest, ytv, ytest = train_test_split(X, y, random_state=42, test_size=0.2)\n",
    "Xtrain, Xval, ytrain, yval = train_test_split(Xtv, ytv, test_size=0.25)"
   ]
  },
  {
   "cell_type": "code",
   "execution_count": 9,
   "metadata": {},
   "outputs": [
    {
     "data": {
      "text/plain": [
       "((29337, 9), (9779, 9), (9779, 9))"
      ]
     },
     "execution_count": 9,
     "metadata": {},
     "output_type": "execute_result"
    }
   ],
   "source": [
    "Xtrain.shape, Xval.shape, Xtest.shape"
   ]
  },
  {
   "cell_type": "code",
   "execution_count": 10,
   "metadata": {},
   "outputs": [
    {
     "data": {
      "text/plain": [
       "((29337,), (9779,), (9779,))"
      ]
     },
     "execution_count": 10,
     "metadata": {},
     "output_type": "execute_result"
    }
   ],
   "source": [
    "ytrain.shape, yval.shape, ytest.shape"
   ]
  },
  {
   "cell_type": "markdown",
   "metadata": {},
   "source": [
    "### Some EDA"
   ]
  },
  {
   "cell_type": "code",
   "execution_count": 24,
   "metadata": {},
   "outputs": [
    {
     "data": {
      "text/plain": [
       "<AxesSubplot:xlabel='longitude', ylabel='latitude'>"
      ]
     },
     "execution_count": 24,
     "metadata": {},
     "output_type": "execute_result"
    },
    {
     "data": {
      "image/png": "[encoded data removed]",
      "text/plain": [
       "<Figure size 432x288 with 1 Axes>"
      ]
     },
     "metadata": {
      "needs_background": "light"
     },
     "output_type": "display_data"
    }
   ],
   "source": [
    "sns.scatterplot(data=Xtrain, hue=np.log1p(ytrain), x='longitude', y='latitude')"
   ]
  },
  {
   "cell_type": "markdown",
   "metadata": {},
   "source": [
    "### Question 2\n",
    "Create the correlation matrix for the numerical features of your train dataset.\n",
    "In a correlation matrix, you compute the correlation coefficient between every pair of features in the dataset.\n",
    "\n",
    "What are the two features that have the biggest correlation in this dataset?"
   ]
  },
  {
   "cell_type": "code",
   "execution_count": 11,
   "metadata": {},
   "outputs": [],
   "source": [
    "corrdata = Xtrain.copy()\n",
    "corrdata['log_price'] = np.log1p(ytrain)"
   ]
  },
  {
   "cell_type": "code",
   "execution_count": 12,
   "metadata": {},
   "outputs": [
    {
     "data": {
      "text/html": [
       "<div>\n",
       "<style scoped>\n",
       "    .dataframe tbody tr th:only-of-type {\n",
       "        vertical-align: middle;\n",
       "    }\n",
       "\n",
       "    .dataframe tbody tr th {\n",
       "        vertical-align: top;\n",
       "    }\n",
       "\n",
       "    .dataframe thead th {\n",
       "        text-align: right;\n",
       "    }\n",
       "</style>\n",
       "<table border=\"1\" class=\"dataframe\">\n",
       "  <thead>\n",
       "    <tr style=\"text-align: right;\">\n",
       "      <th></th>\n",
       "      <th>latitude</th>\n",
       "      <th>longitude</th>\n",
       "      <th>minimum_nights</th>\n",
       "      <th>number_of_reviews</th>\n",
       "      <th>reviews_per_month</th>\n",
       "      <th>calculated_host_listings_count</th>\n",
       "      <th>availability_365</th>\n",
       "      <th>log_price</th>\n",
       "    </tr>\n",
       "  </thead>\n",
       "  <tbody>\n",
       "    <tr>\n",
       "      <th>latitude</th>\n",
       "      <td>1.000</td>\n",
       "      <td>0.083</td>\n",
       "      <td>0.023</td>\n",
       "      <td>-0.007</td>\n",
       "      <td>-0.009</td>\n",
       "      <td>0.022</td>\n",
       "      <td>-0.007</td>\n",
       "      <td>0.083</td>\n",
       "    </tr>\n",
       "    <tr>\n",
       "      <th>longitude</th>\n",
       "      <td>0.083</td>\n",
       "      <td>1.000</td>\n",
       "      <td>-0.061</td>\n",
       "      <td>0.054</td>\n",
       "      <td>0.134</td>\n",
       "      <td>-0.112</td>\n",
       "      <td>0.083</td>\n",
       "      <td>-0.324</td>\n",
       "    </tr>\n",
       "    <tr>\n",
       "      <th>minimum_nights</th>\n",
       "      <td>0.023</td>\n",
       "      <td>-0.061</td>\n",
       "      <td>1.000</td>\n",
       "      <td>-0.075</td>\n",
       "      <td>-0.116</td>\n",
       "      <td>0.120</td>\n",
       "      <td>0.137</td>\n",
       "      <td>0.032</td>\n",
       "    </tr>\n",
       "    <tr>\n",
       "      <th>number_of_reviews</th>\n",
       "      <td>-0.007</td>\n",
       "      <td>0.054</td>\n",
       "      <td>-0.075</td>\n",
       "      <td>1.000</td>\n",
       "      <td>0.580</td>\n",
       "      <td>-0.073</td>\n",
       "      <td>0.178</td>\n",
       "      <td>-0.040</td>\n",
       "    </tr>\n",
       "    <tr>\n",
       "      <th>reviews_per_month</th>\n",
       "      <td>-0.009</td>\n",
       "      <td>0.134</td>\n",
       "      <td>-0.116</td>\n",
       "      <td>0.580</td>\n",
       "      <td>1.000</td>\n",
       "      <td>-0.049</td>\n",
       "      <td>0.167</td>\n",
       "      <td>-0.060</td>\n",
       "    </tr>\n",
       "    <tr>\n",
       "      <th>calculated_host_listings_count</th>\n",
       "      <td>0.022</td>\n",
       "      <td>-0.112</td>\n",
       "      <td>0.120</td>\n",
       "      <td>-0.073</td>\n",
       "      <td>-0.049</td>\n",
       "      <td>1.000</td>\n",
       "      <td>0.223</td>\n",
       "      <td>0.131</td>\n",
       "    </tr>\n",
       "    <tr>\n",
       "      <th>availability_365</th>\n",
       "      <td>-0.007</td>\n",
       "      <td>0.083</td>\n",
       "      <td>0.137</td>\n",
       "      <td>0.178</td>\n",
       "      <td>0.167</td>\n",
       "      <td>0.223</td>\n",
       "      <td>1.000</td>\n",
       "      <td>0.097</td>\n",
       "    </tr>\n",
       "    <tr>\n",
       "      <th>log_price</th>\n",
       "      <td>0.083</td>\n",
       "      <td>-0.324</td>\n",
       "      <td>0.032</td>\n",
       "      <td>-0.040</td>\n",
       "      <td>-0.060</td>\n",
       "      <td>0.131</td>\n",
       "      <td>0.097</td>\n",
       "      <td>1.000</td>\n",
       "    </tr>\n",
       "  </tbody>\n",
       "</table>\n",
       "</div>"
      ],
      "text/plain": [
       "                                latitude  longitude  minimum_nights  \\\n",
       "latitude                           1.000      0.083           0.023   \n",
       "longitude                          0.083      1.000          -0.061   \n",
       "minimum_nights                     0.023     -0.061           1.000   \n",
       "number_of_reviews                 -0.007      0.054          -0.075   \n",
       "reviews_per_month                 -0.009      0.134          -0.116   \n",
       "calculated_host_listings_count     0.022     -0.112           0.120   \n",
       "availability_365                  -0.007      0.083           0.137   \n",
       "log_price                          0.083     -0.324           0.032   \n",
       "\n",
       "                                number_of_reviews  reviews_per_month  \\\n",
       "latitude                                   -0.007             -0.009   \n",
       "longitude                                   0.054              0.134   \n",
       "minimum_nights                             -0.075             -0.116   \n",
       "number_of_reviews                           1.000              0.580   \n",
       "reviews_per_month                           0.580              1.000   \n",
       "calculated_host_listings_count             -0.073             -0.049   \n",
       "availability_365                            0.178              0.167   \n",
       "log_price                                  -0.040             -0.060   \n",
       "\n",
       "                                calculated_host_listings_count  \\\n",
       "latitude                                                 0.022   \n",
       "longitude                                               -0.112   \n",
       "minimum_nights                                           0.120   \n",
       "number_of_reviews                                       -0.073   \n",
       "reviews_per_month                                       -0.049   \n",
       "calculated_host_listings_count                           1.000   \n",
       "availability_365                                         0.223   \n",
       "log_price                                                0.131   \n",
       "\n",
       "                                availability_365  log_price  \n",
       "latitude                                  -0.007      0.083  \n",
       "longitude                                  0.083     -0.324  \n",
       "minimum_nights                             0.137      0.032  \n",
       "number_of_reviews                          0.178     -0.040  \n",
       "reviews_per_month                          0.167     -0.060  \n",
       "calculated_host_listings_count             0.223      0.131  \n",
       "availability_365                           1.000      0.097  \n",
       "log_price                                  0.097      1.000  "
      ]
     },
     "execution_count": 12,
     "metadata": {},
     "output_type": "execute_result"
    }
   ],
   "source": [
    "cm = corrdata.corr()\n",
    "cm.round(3)"
   ]
  },
  {
   "cell_type": "code",
   "execution_count": 13,
   "metadata": {},
   "outputs": [
    {
     "data": {
      "text/plain": [
       "<AxesSubplot:>"
      ]
     },
     "execution_count": 13,
     "metadata": {},
     "output_type": "execute_result"
    },
    {
     "data": {
      "image/png": "[encoded data removed]",
      "text/plain": [
       "<Figure size 432x288 with 2 Axes>"
      ]
     },
     "metadata": {
      "needs_background": "light"
     },
     "output_type": "display_data"
    }
   ],
   "source": [
    "sns.heatmap(cm, annot=True)"
   ]
  },
  {
   "cell_type": "markdown",
   "metadata": {},
   "source": [
    "### Make price binary\n",
    "\n",
    "We need to turn the price variable from numeric into binary.\n",
    "Let's create a variable above_average which is 1 if the price is above (or equal to) 152."
   ]
  },
  {
   "cell_type": "code",
   "execution_count": 14,
   "metadata": {},
   "outputs": [],
   "source": [
    "above_avg_train = (ytrain >= 152).astype(int)\n",
    "above_avg_val = (yval >= 152).astype(int)\n",
    "above_avg_test = (ytest >= 152).astype(int)"
   ]
  },
  {
   "cell_type": "markdown",
   "metadata": {},
   "source": [
    "### Question 3\n",
    "\n",
    "Calculate the mutual information score with the (binarized) price for the two categorical variables that we have. Use the training set only.\n",
    "Which of these two variables has bigger score?\n",
    "Round it to 2 decimal digits using round(score, 2)"
   ]
  },
  {
   "cell_type": "markdown",
   "metadata": {},
   "source": [
    "#### Entropy\n",
    "\n",
    "I calculate the entropy because $H(X)$ should be identical to $I(X, X)$.\n",
    "\n",
    "$H = -\\sum p * log p$"
   ]
  },
  {
   "cell_type": "code",
   "execution_count": 74,
   "metadata": {},
   "outputs": [
    {
     "data": {
      "text/plain": [
       "0    0.693936\n",
       "1    0.306064\n",
       "Name: price, dtype: float64"
      ]
     },
     "execution_count": 74,
     "metadata": {},
     "output_type": "execute_result"
    }
   ],
   "source": [
    "p = above_avg_train.value_counts() / len(above_avg_train)\n",
    "p"
   ]
  },
  {
   "cell_type": "code",
   "execution_count": 77,
   "metadata": {},
   "outputs": [
    {
     "data": {
      "text/plain": [
       "0.6159"
      ]
     },
     "execution_count": 77,
     "metadata": {},
     "output_type": "execute_result"
    }
   ],
   "source": [
    "# using the natural logs throughout for consistency\n",
    "# not the binary log often found\n",
    "from math import log\n",
    "\n",
    "H = -(p[0] * log(p[0]) + p[1] * log(p[1]))\n",
    "round(H, 4)  # measured in bits"
   ]
  },
  {
   "cell_type": "markdown",
   "metadata": {},
   "source": [
    "#### Mutual Information\n",
    "\n",
    "Implement the mutual information from scratch to compare it to the scikit function. I want to make sure I understand the thing.\n",
    "\n",
    "$I(X, Y) = \\sum_x \\sum_y p(x,y) * log(\\dfrac{p(x,y)}{p(x)*p(y)})$"
   ]
  },
  {
   "cell_type": "code",
   "execution_count": 78,
   "metadata": {},
   "outputs": [
    {
     "data": {
      "text/html": [
       "<div>\n",
       "<style scoped>\n",
       "    .dataframe tbody tr th:only-of-type {\n",
       "        vertical-align: middle;\n",
       "    }\n",
       "\n",
       "    .dataframe tbody tr th {\n",
       "        vertical-align: top;\n",
       "    }\n",
       "\n",
       "    .dataframe thead th {\n",
       "        text-align: right;\n",
       "    }\n",
       "</style>\n",
       "<table border=\"1\" class=\"dataframe\">\n",
       "  <thead>\n",
       "    <tr style=\"text-align: right;\">\n",
       "      <th></th>\n",
       "      <th>y</th>\n",
       "      <th>x</th>\n",
       "      <th>dummy</th>\n",
       "    </tr>\n",
       "  </thead>\n",
       "  <tbody>\n",
       "    <tr>\n",
       "      <th>46204</th>\n",
       "      <td>0</td>\n",
       "      <td>Manhattan</td>\n",
       "      <td>1</td>\n",
       "    </tr>\n",
       "    <tr>\n",
       "      <th>19355</th>\n",
       "      <td>1</td>\n",
       "      <td>Manhattan</td>\n",
       "      <td>1</td>\n",
       "    </tr>\n",
       "    <tr>\n",
       "      <th>4350</th>\n",
       "      <td>0</td>\n",
       "      <td>Manhattan</td>\n",
       "      <td>1</td>\n",
       "    </tr>\n",
       "  </tbody>\n",
       "</table>\n",
       "</div>"
      ],
      "text/plain": [
       "       y          x  dummy\n",
       "46204  0  Manhattan      1\n",
       "19355  1  Manhattan      1\n",
       "4350   0  Manhattan      1"
      ]
     },
     "execution_count": 78,
     "metadata": {},
     "output_type": "execute_result"
    }
   ],
   "source": [
    "# somewhat messy implementation\n",
    "# code would require testing\n",
    "\n",
    "data = Xtrain[['neighbourhood_group']].copy()\n",
    "data['y'] = above_avg_train\n",
    "data['x'] = data['neighbourhood_group']\n",
    "del data['neighbourhood_group']\n",
    "data['dummy'] = 1\n",
    "data.head(3)"
   ]
  },
  {
   "cell_type": "code",
   "execution_count": 79,
   "metadata": {},
   "outputs": [
    {
     "data": {
      "text/html": [
       "<div>\n",
       "<style scoped>\n",
       "    .dataframe tbody tr th:only-of-type {\n",
       "        vertical-align: middle;\n",
       "    }\n",
       "\n",
       "    .dataframe tbody tr th {\n",
       "        vertical-align: top;\n",
       "    }\n",
       "\n",
       "    .dataframe thead th {\n",
       "        text-align: right;\n",
       "    }\n",
       "</style>\n",
       "<table border=\"1\" class=\"dataframe\">\n",
       "  <thead>\n",
       "    <tr style=\"text-align: right;\">\n",
       "      <th></th>\n",
       "      <th></th>\n",
       "      <th>dummy</th>\n",
       "    </tr>\n",
       "    <tr>\n",
       "      <th>x</th>\n",
       "      <th>y</th>\n",
       "      <th></th>\n",
       "    </tr>\n",
       "  </thead>\n",
       "  <tbody>\n",
       "    <tr>\n",
       "      <th rowspan=\"2\" valign=\"top\">Bronx</th>\n",
       "      <th>0</th>\n",
       "      <td>0.021406</td>\n",
       "    </tr>\n",
       "    <tr>\n",
       "      <th>1</th>\n",
       "      <td>0.001773</td>\n",
       "    </tr>\n",
       "    <tr>\n",
       "      <th rowspan=\"2\" valign=\"top\">Brooklyn</th>\n",
       "      <th>0</th>\n",
       "      <td>0.325493</td>\n",
       "    </tr>\n",
       "    <tr>\n",
       "      <th>1</th>\n",
       "      <td>0.088284</td>\n",
       "    </tr>\n",
       "    <tr>\n",
       "      <th rowspan=\"2\" valign=\"top\">Manhattan</th>\n",
       "      <th>0</th>\n",
       "      <td>0.238572</td>\n",
       "    </tr>\n",
       "    <tr>\n",
       "      <th>1</th>\n",
       "      <td>0.201043</td>\n",
       "    </tr>\n",
       "    <tr>\n",
       "      <th rowspan=\"2\" valign=\"top\">Queens</th>\n",
       "      <th>0</th>\n",
       "      <td>0.101817</td>\n",
       "    </tr>\n",
       "    <tr>\n",
       "      <th>1</th>\n",
       "      <td>0.013907</td>\n",
       "    </tr>\n",
       "    <tr>\n",
       "      <th rowspan=\"2\" valign=\"top\">Staten Island</th>\n",
       "      <th>0</th>\n",
       "      <td>0.006647</td>\n",
       "    </tr>\n",
       "    <tr>\n",
       "      <th>1</th>\n",
       "      <td>0.001057</td>\n",
       "    </tr>\n",
       "  </tbody>\n",
       "</table>\n",
       "</div>"
      ],
      "text/plain": [
       "                    dummy\n",
       "x             y          \n",
       "Bronx         0  0.021406\n",
       "              1  0.001773\n",
       "Brooklyn      0  0.325493\n",
       "              1  0.088284\n",
       "Manhattan     0  0.238572\n",
       "              1  0.201043\n",
       "Queens        0  0.101817\n",
       "              1  0.013907\n",
       "Staten Island 0  0.006647\n",
       "              1  0.001057"
      ]
     },
     "execution_count": 79,
     "metadata": {},
     "output_type": "execute_result"
    }
   ],
   "source": [
    "p = data.groupby(['x', 'y']).count() / len(data)\n",
    "p"
   ]
  },
  {
   "cell_type": "markdown",
   "metadata": {},
   "source": [
    "$I(X, Y) = \\sum_x \\sum_y p(x,y) * log(\\dfrac{p(x,y)}{p(x)*p(y)})$"
   ]
  },
  {
   "cell_type": "code",
   "execution_count": 80,
   "metadata": {},
   "outputs": [
    {
     "data": {
      "text/plain": [
       "0.04647"
      ]
     },
     "execution_count": 80,
     "metadata": {},
     "output_type": "execute_result"
    }
   ],
   "source": [
    "info = 0.0\n",
    "\n",
    "for (x, y), prob in p.iterrows():\n",
    "    p_xy = prob.values[0]\n",
    "    p_x = p.loc[x].values.sum()\n",
    "    p_y = p.unstack()['dummy'][y].sum()\n",
    "    info += p_xy * log( p_xy / (p_x * p_y))\n",
    "    \n",
    "round(info, 5)"
   ]
  },
  {
   "cell_type": "markdown",
   "metadata": {},
   "source": [
    "#### Calculation with scikit"
   ]
  },
  {
   "cell_type": "code",
   "execution_count": 67,
   "metadata": {},
   "outputs": [],
   "source": [
    "from sklearn.metrics import mutual_info_score"
   ]
  },
  {
   "cell_type": "code",
   "execution_count": 85,
   "metadata": {},
   "outputs": [
    {
     "data": {
      "text/plain": [
       "0.05"
      ]
     },
     "execution_count": 85,
     "metadata": {},
     "output_type": "execute_result"
    }
   ],
   "source": [
    "round(mutual_info_score(above_avg_train, Xtrain['neighbourhood_group']), 2)"
   ]
  },
  {
   "cell_type": "code",
   "execution_count": 84,
   "metadata": {},
   "outputs": [
    {
     "data": {
      "text/plain": [
       "0.14"
      ]
     },
     "execution_count": 84,
     "metadata": {},
     "output_type": "execute_result"
    }
   ],
   "source": [
    "round(mutual_info_score(above_avg_train, Xtrain['room_type']), 2)"
   ]
  },
  {
   "cell_type": "code",
   "execution_count": 81,
   "metadata": {},
   "outputs": [
    {
     "data": {
      "text/plain": [
       "0.6159"
      ]
     },
     "execution_count": 81,
     "metadata": {},
     "output_type": "execute_result"
    }
   ],
   "source": [
    "# variable with itself should be same as H\n",
    "round(mutual_info_score(above_avg_train, above_avg_train), 4)"
   ]
  },
  {
   "cell_type": "code",
   "execution_count": 82,
   "metadata": {},
   "outputs": [
    {
     "data": {
      "text/plain": [
       "0.0"
      ]
     },
     "execution_count": 82,
     "metadata": {},
     "output_type": "execute_result"
    }
   ],
   "source": [
    "# variable with random data should be close to zero\n",
    "round(mutual_info_score(above_avg_train, np.random.randint(1,6,size=above_avg_train.shape)), 2)"
   ]
  },
  {
   "cell_type": "markdown",
   "metadata": {},
   "source": [
    "### Question 4\n",
    "\n",
    "Now let's train a logistic regression\n",
    "\n",
    "Remember that we have two categorical variables in the data. Include them using one-hot encoding.\n",
    "Fit the model on the training dataset."
   ]
  },
  {
   "cell_type": "code",
   "execution_count": 44,
   "metadata": {},
   "outputs": [
    {
     "data": {
      "text/html": [
       "<div>\n",
       "<style scoped>\n",
       "    .dataframe tbody tr th:only-of-type {\n",
       "        vertical-align: middle;\n",
       "    }\n",
       "\n",
       "    .dataframe tbody tr th {\n",
       "        vertical-align: top;\n",
       "    }\n",
       "\n",
       "    .dataframe thead th {\n",
       "        text-align: right;\n",
       "    }\n",
       "</style>\n",
       "<table border=\"1\" class=\"dataframe\">\n",
       "  <thead>\n",
       "    <tr style=\"text-align: right;\">\n",
       "      <th></th>\n",
       "      <th>neighbourhood_group</th>\n",
       "      <th>room_type</th>\n",
       "      <th>latitude</th>\n",
       "      <th>longitude</th>\n",
       "      <th>minimum_nights</th>\n",
       "      <th>number_of_reviews</th>\n",
       "      <th>reviews_per_month</th>\n",
       "      <th>calculated_host_listings_count</th>\n",
       "      <th>availability_365</th>\n",
       "    </tr>\n",
       "  </thead>\n",
       "  <tbody>\n",
       "    <tr>\n",
       "      <th>846</th>\n",
       "      <td>Brooklyn</td>\n",
       "      <td>Private room</td>\n",
       "      <td>40.69309</td>\n",
       "      <td>-73.97074</td>\n",
       "      <td>3</td>\n",
       "      <td>1</td>\n",
       "      <td>0.07</td>\n",
       "      <td>1</td>\n",
       "      <td>0</td>\n",
       "    </tr>\n",
       "    <tr>\n",
       "      <th>21599</th>\n",
       "      <td>Brooklyn</td>\n",
       "      <td>Entire home/apt</td>\n",
       "      <td>40.65258</td>\n",
       "      <td>-73.96240</td>\n",
       "      <td>1</td>\n",
       "      <td>0</td>\n",
       "      <td>0.00</td>\n",
       "      <td>1</td>\n",
       "      <td>0</td>\n",
       "    </tr>\n",
       "    <tr>\n",
       "      <th>2695</th>\n",
       "      <td>Manhattan</td>\n",
       "      <td>Entire home/apt</td>\n",
       "      <td>40.72620</td>\n",
       "      <td>-73.97913</td>\n",
       "      <td>10</td>\n",
       "      <td>2</td>\n",
       "      <td>0.03</td>\n",
       "      <td>1</td>\n",
       "      <td>234</td>\n",
       "    </tr>\n",
       "  </tbody>\n",
       "</table>\n",
       "</div>"
      ],
      "text/plain": [
       "      neighbourhood_group        room_type  latitude  longitude  \\\n",
       "846              Brooklyn     Private room  40.69309  -73.97074   \n",
       "21599            Brooklyn  Entire home/apt  40.65258  -73.96240   \n",
       "2695            Manhattan  Entire home/apt  40.72620  -73.97913   \n",
       "\n",
       "       minimum_nights  number_of_reviews  reviews_per_month  \\\n",
       "846                 3                  1               0.07   \n",
       "21599               1                  0               0.00   \n",
       "2695               10                  2               0.03   \n",
       "\n",
       "       calculated_host_listings_count  availability_365  \n",
       "846                                 1                 0  \n",
       "21599                               1                 0  \n",
       "2695                                1               234  "
      ]
     },
     "execution_count": 44,
     "metadata": {},
     "output_type": "execute_result"
    }
   ],
   "source": [
    "Xtrain.head(3)"
   ]
  },
  {
   "cell_type": "code",
   "execution_count": 79,
   "metadata": {},
   "outputs": [],
   "source": [
    "pipe = make_pipeline(\n",
    "    ColumnTransformer([\n",
    "        ('onehot', OneHotEncoder(drop='first', handle_unknown='error'), ['neighbourhood_group', 'room_type']),\n",
    "    ], remainder='passthrough'),\n",
    "    MinMaxScaler(),\n",
    "    LogisticRegression(solver='lbfgs', C=1.0, random_state=42)\n",
    ")"
   ]
  },
  {
   "cell_type": "code",
   "execution_count": 81,
   "metadata": {},
   "outputs": [
    {
     "name": "stderr",
     "output_type": "stream",
     "text": [
      "/home/kristian/.local/lib/python3.8/site-packages/sklearn/linear_model/_logistic.py:763: ConvergenceWarning: lbfgs failed to converge (status=1):\n",
      "STOP: TOTAL NO. of ITERATIONS REACHED LIMIT.\n",
      "\n",
      "Increase the number of iterations (max_iter) or scale the data as shown in:\n",
      "    https://scikit-learn.org/stable/modules/preprocessing.html\n",
      "Please also refer to the documentation for alternative solver options:\n",
      "    https://scikit-learn.org/stable/modules/linear_model.html#logistic-regression\n",
      "  n_iter_i = _check_optimize_result(\n"
     ]
    },
    {
     "data": {
      "text/plain": [
       "0.8"
      ]
     },
     "execution_count": 81,
     "metadata": {},
     "output_type": "execute_result"
    }
   ],
   "source": [
    "pipe.fit(Xtrain, above_avg_train)\n",
    "round(pipe.score(Xtrain, above_avg_train), 2)"
   ]
  },
  {
   "cell_type": "markdown",
   "metadata": {},
   "source": [
    "Calculate the accuracy on the validation dataset and round it to 2 decimal digits."
   ]
  },
  {
   "cell_type": "code",
   "execution_count": 82,
   "metadata": {},
   "outputs": [
    {
     "data": {
      "text/plain": [
       "0.8"
      ]
     },
     "execution_count": 82,
     "metadata": {},
     "output_type": "execute_result"
    }
   ],
   "source": [
    "round(pipe.score(Xval, above_avg_val), 2)"
   ]
  },
  {
   "cell_type": "code",
   "execution_count": 83,
   "metadata": {},
   "outputs": [
    {
     "data": {
      "text/plain": [
       "array([[ 0.0132074 ,  0.99666498,  0.40975317, -2.97222753, -2.72773842,\n",
       "        -2.98360423, -1.02854426, -6.68225235, -5.71097859, -1.88508873,\n",
       "        -0.88337994,  1.00924825,  1.06638452]])"
      ]
     },
     "execution_count": 83,
     "metadata": {},
     "output_type": "execute_result"
    }
   ],
   "source": [
    "pipe.named_steps['logisticregression'].coef_"
   ]
  },
  {
   "cell_type": "markdown",
   "metadata": {},
   "source": [
    "### Question 5\n",
    "\n",
    "We have 9 features: 7 numerical features and 2 categorical.\n",
    "\n",
    "Let's find the least useful one using the feature elimination technique.\n",
    "\n",
    "Train a model with all these features (using the same parameters as in Q4)."
   ]
  },
  {
   "cell_type": "code",
   "execution_count": 74,
   "metadata": {},
   "outputs": [],
   "source": [
    "acc_orig_train = pipe.score(Xtrain, above_avg_train)\n",
    "acc_orig_val = pipe.score(Xval, above_avg_val)"
   ]
  },
  {
   "cell_type": "markdown",
   "metadata": {},
   "source": [
    "Now exclude each feature from this set and train a model without it. Record the accuracy for each model.\n",
    "\n",
    "For each feature, calculate the difference between the original accuracy and the accuracy without the feature.\n",
    "Which of following feature has the smallest difference?\n",
    "\n",
    "note: the difference doesn't have to be positive"
   ]
  },
  {
   "cell_type": "code",
   "execution_count": 113,
   "metadata": {},
   "outputs": [],
   "source": [
    "def train_diff(onehot_cols, pass_cols):\n",
    "    pipe = make_pipeline(\n",
    "        ColumnTransformer([\n",
    "            ('onehot', OneHotEncoder(drop='first', handle_unknown='error'), onehot_cols),\n",
    "            ('pass', 'passthrough', pass_cols)\n",
    "        ]),\n",
    "        MinMaxScaler(),\n",
    "        LogisticRegression(solver='lbfgs', C=1.0, random_state=42)\n",
    "    )\n",
    "    pipe.fit(Xtrain, above_avg_train)\n",
    "    acc_train = pipe.score(Xtrain, above_avg_train)\n",
    "    acc_val = pipe.score(Xval, above_avg_val)\n",
    "    dtrain = round(acc_orig_train - acc_train, 4)\n",
    "    dval = round(acc_orig_val - acc_val, 4)\n",
    "    return dtrain, dval"
   ]
  },
  {
   "cell_type": "code",
   "execution_count": 114,
   "metadata": {},
   "outputs": [
    {
     "data": {
      "text/plain": [
       "(0.0017, 0.0056)"
      ]
     },
     "execution_count": 114,
     "metadata": {},
     "output_type": "execute_result"
    }
   ],
   "source": [
    "# A) eliminate neighbourhood_group\n",
    "train_diff(['room_type'], \n",
    "      ['latitude', 'longitude', 'minimum_nights', 'number_of_reviews', \n",
    "       'reviews_per_month', 'calculated_host_listings_count', 'availability_365'])"
   ]
  },
  {
   "cell_type": "code",
   "execution_count": 115,
   "metadata": {},
   "outputs": [
    {
     "data": {
      "text/plain": [
       "(0.0577, 0.0555)"
      ]
     },
     "execution_count": 115,
     "metadata": {},
     "output_type": "execute_result"
    }
   ],
   "source": [
    "# B) eliminate room_type\n",
    "train_diff(['neighbourhood_group'], \n",
    "      ['latitude', 'longitude', 'minimum_nights', 'number_of_reviews', \n",
    "       'reviews_per_month', 'calculated_host_listings_count', 'availability_365'])"
   ]
  },
  {
   "cell_type": "code",
   "execution_count": 116,
   "metadata": {},
   "outputs": [
    {
     "data": {
      "text/plain": [
       "(0.0009, -0.0001)"
      ]
     },
     "execution_count": 116,
     "metadata": {},
     "output_type": "execute_result"
    }
   ],
   "source": [
    "# C) eliminate n_reviews\n",
    "train_diff(['room_type', 'neighbourhood_group'], \n",
    "      ['latitude', 'longitude', 'minimum_nights', \n",
    "       'reviews_per_month', 'calculated_host_listings_count', 'availability_365'])"
   ]
  },
  {
   "cell_type": "code",
   "execution_count": 119,
   "metadata": {},
   "outputs": [
    {
     "data": {
      "text/plain": [
       "(-0.0, -0.0002)"
      ]
     },
     "execution_count": 119,
     "metadata": {},
     "output_type": "execute_result"
    }
   ],
   "source": [
    "# D) eliminate reviews per month - BEST\n",
    "train_diff(['room_type', 'neighbourhood_group'], \n",
    "      ['latitude', 'longitude', 'minimum_nights', 'number_of_reviews',\n",
    "       'calculated_host_listings_count', 'availability_365'])"
   ]
  },
  {
   "cell_type": "markdown",
   "metadata": {},
   "source": [
    "### Question 6\n",
    "\n",
    "For this question, we'll see how to use a linear regression model from Scikit-Learn\n",
    "\n",
    "We'll need to use the original column 'price'. Apply the logarithmic transformation to this column.\n",
    "\n",
    "Fit the Ridge regression model on the training data.\n",
    "\n",
    "This model has a parameter alpha. Let's try the following values: [0, 0.01, 0.1, 1, 10]\n",
    "Which of these alphas leads to the best RMSE on the validation set? Round your RMSE scores to 3 decimal digits.\n",
    "\n",
    "If there are multiple options, select the smallest alpha."
   ]
  },
  {
   "cell_type": "code",
   "execution_count": 92,
   "metadata": {},
   "outputs": [],
   "source": [
    "from sklearn.linear_model import Ridge\n",
    "from sklearn.model_selection import GridSearchCV"
   ]
  },
  {
   "cell_type": "code",
   "execution_count": 90,
   "metadata": {},
   "outputs": [],
   "source": [
    "ytrain_log = np.log1p(ytrain)\n",
    "yval_log = np.log1p(yval)"
   ]
  },
  {
   "cell_type": "code",
   "execution_count": 97,
   "metadata": {},
   "outputs": [],
   "source": [
    "pipe = make_pipeline(\n",
    "    ColumnTransformer([\n",
    "        ('onehot', OneHotEncoder(drop='first', handle_unknown='error'), ['neighbourhood_group', 'room_type']),\n",
    "    ], remainder='passthrough'),\n",
    "    MinMaxScaler(),\n",
    "    Ridge()\n",
    ")"
   ]
  },
  {
   "cell_type": "code",
   "execution_count": 98,
   "metadata": {},
   "outputs": [],
   "source": [
    "params = {'ridge__alpha': [0.0, 0.01, 0.1, 1.0, 10.0]}\n",
    "\n",
    "g = GridSearchCV(\n",
    "    pipe,\n",
    "    params\n",
    ")"
   ]
  },
  {
   "cell_type": "code",
   "execution_count": 99,
   "metadata": {},
   "outputs": [
    {
     "data": {
      "text/plain": [
       "GridSearchCV(estimator=Pipeline(steps=[('columntransformer',\n",
       "                                        ColumnTransformer(remainder='passthrough',\n",
       "                                                          transformers=[('onehot',\n",
       "                                                                         OneHotEncoder(drop='first'),\n",
       "                                                                         ['neighbourhood_group',\n",
       "                                                                          'room_type'])])),\n",
       "                                       ('minmaxscaler', MinMaxScaler()),\n",
       "                                       ('ridge', Ridge())]),\n",
       "             param_grid={'ridge__alpha': [0.0, 0.01, 0.1, 1.0, 10.0]})"
      ]
     },
     "execution_count": 99,
     "metadata": {},
     "output_type": "execute_result"
    }
   ],
   "source": [
    "g.fit(Xtrain, ytrain_log)"
   ]
  },
  {
   "cell_type": "code",
   "execution_count": 100,
   "metadata": {},
   "outputs": [
    {
     "data": {
      "text/plain": [
       "{'ridge__alpha': 1.0}"
      ]
     },
     "execution_count": 100,
     "metadata": {},
     "output_type": "execute_result"
    }
   ],
   "source": [
    "g.best_params_"
   ]
  },
  {
   "cell_type": "code",
   "execution_count": 104,
   "metadata": {},
   "outputs": [
    {
     "data": {
      "text/plain": [
       "array([0.483, 0.483, 0.483, 0.483, 0.482])"
      ]
     },
     "execution_count": 104,
     "metadata": {},
     "output_type": "execute_result"
    }
   ],
   "source": [
    "# these are R^2 scores, not RMSEs\n",
    "g.cv_results_['mean_test_score'].round(3)"
   ]
  },
  {
   "cell_type": "markdown",
   "metadata": {},
   "source": [
    "#### Repeat manually\n",
    "GridSearchCV does an additional split."
   ]
  },
  {
   "cell_type": "code",
   "execution_count": 110,
   "metadata": {},
   "outputs": [
    {
     "name": "stdout",
     "output_type": "stream",
     "text": [
      "    0.00    MSE train:    0.252    MSE val:    0.245\n",
      "    0.01    MSE train:    0.252    MSE val:    0.245\n",
      "    0.10    MSE train:    0.252    MSE val:    0.245\n",
      "    1.00    MSE train:    0.252    MSE val:    0.245\n",
      "   10.00    MSE train:    0.253    MSE val:    0.246\n",
      "10000.00    MSE train:    0.346    MSE val:    0.336\n"
     ]
    }
   ],
   "source": [
    "from sklearn.metrics import mean_squared_error\n",
    "\n",
    "for alpha in [0.0, 0.01, 0.1, 1.0, 10.0, 10000.0]:\n",
    "    pipe = make_pipeline(\n",
    "    ColumnTransformer([\n",
    "        ('onehot', OneHotEncoder(drop='first', handle_unknown='error'), ['neighbourhood_group', 'room_type']),\n",
    "    ], remainder='passthrough'),\n",
    "    MinMaxScaler(),\n",
    "    Ridge(alpha=alpha)\n",
    "    )\n",
    "    pipe.fit(Xtrain, ytrain_log)\n",
    "    ytrain_pred = pipe.predict(Xtrain)\n",
    "    yval_pred = pipe.predict(Xval)\n",
    "    \n",
    "    train_mse = mean_squared_error(ytrain_log, ytrain_pred)\n",
    "    val_mse = mean_squared_error(yval_log, yval_pred)\n",
    "    print(f\"{alpha:8.2f}    MSE train: {train_mse:8.3f}    MSE val: {val_mse:8.3f}\")"
   ]
  },
  {
   "cell_type": "code",
   "execution_count": 111,
   "metadata": {},
   "outputs": [
    {
     "data": {
      "text/html": [
       "<div>\n",
       "<style scoped>\n",
       "    .dataframe tbody tr th:only-of-type {\n",
       "        vertical-align: middle;\n",
       "    }\n",
       "\n",
       "    .dataframe tbody tr th {\n",
       "        vertical-align: top;\n",
       "    }\n",
       "\n",
       "    .dataframe thead th {\n",
       "        text-align: right;\n",
       "    }\n",
       "</style>\n",
       "<table border=\"1\" class=\"dataframe\">\n",
       "  <thead>\n",
       "    <tr style=\"text-align: right;\">\n",
       "      <th></th>\n",
       "      <th>neighbourhood_group</th>\n",
       "      <th>room_type</th>\n",
       "      <th>latitude</th>\n",
       "      <th>longitude</th>\n",
       "      <th>minimum_nights</th>\n",
       "      <th>number_of_reviews</th>\n",
       "      <th>reviews_per_month</th>\n",
       "      <th>calculated_host_listings_count</th>\n",
       "      <th>availability_365</th>\n",
       "    </tr>\n",
       "  </thead>\n",
       "  <tbody>\n",
       "    <tr>\n",
       "      <th>46204</th>\n",
       "      <td>Manhattan</td>\n",
       "      <td>Private room</td>\n",
       "      <td>40.72612</td>\n",
       "      <td>-73.98946</td>\n",
       "      <td>3</td>\n",
       "      <td>0</td>\n",
       "      <td>0.00</td>\n",
       "      <td>3</td>\n",
       "      <td>12</td>\n",
       "    </tr>\n",
       "    <tr>\n",
       "      <th>19355</th>\n",
       "      <td>Manhattan</td>\n",
       "      <td>Entire home/apt</td>\n",
       "      <td>40.74068</td>\n",
       "      <td>-74.00295</td>\n",
       "      <td>2</td>\n",
       "      <td>134</td>\n",
       "      <td>4.17</td>\n",
       "      <td>1</td>\n",
       "      <td>70</td>\n",
       "    </tr>\n",
       "    <tr>\n",
       "      <th>4350</th>\n",
       "      <td>Manhattan</td>\n",
       "      <td>Private room</td>\n",
       "      <td>40.75293</td>\n",
       "      <td>-73.97173</td>\n",
       "      <td>14</td>\n",
       "      <td>9</td>\n",
       "      <td>0.14</td>\n",
       "      <td>1</td>\n",
       "      <td>21</td>\n",
       "    </tr>\n",
       "    <tr>\n",
       "      <th>1894</th>\n",
       "      <td>Manhattan</td>\n",
       "      <td>Entire home/apt</td>\n",
       "      <td>40.73126</td>\n",
       "      <td>-74.00502</td>\n",
       "      <td>7</td>\n",
       "      <td>7</td>\n",
       "      <td>0.10</td>\n",
       "      <td>1</td>\n",
       "      <td>365</td>\n",
       "    </tr>\n",
       "    <tr>\n",
       "      <th>47442</th>\n",
       "      <td>Bronx</td>\n",
       "      <td>Private room</td>\n",
       "      <td>40.88587</td>\n",
       "      <td>-73.89865</td>\n",
       "      <td>4</td>\n",
       "      <td>0</td>\n",
       "      <td>0.00</td>\n",
       "      <td>1</td>\n",
       "      <td>87</td>\n",
       "    </tr>\n",
       "    <tr>\n",
       "      <th>...</th>\n",
       "      <td>...</td>\n",
       "      <td>...</td>\n",
       "      <td>...</td>\n",
       "      <td>...</td>\n",
       "      <td>...</td>\n",
       "      <td>...</td>\n",
       "      <td>...</td>\n",
       "      <td>...</td>\n",
       "      <td>...</td>\n",
       "    </tr>\n",
       "    <tr>\n",
       "      <th>17559</th>\n",
       "      <td>Brooklyn</td>\n",
       "      <td>Entire home/apt</td>\n",
       "      <td>40.65192</td>\n",
       "      <td>-73.95243</td>\n",
       "      <td>7</td>\n",
       "      <td>1</td>\n",
       "      <td>0.03</td>\n",
       "      <td>1</td>\n",
       "      <td>0</td>\n",
       "    </tr>\n",
       "    <tr>\n",
       "      <th>44102</th>\n",
       "      <td>Manhattan</td>\n",
       "      <td>Entire home/apt</td>\n",
       "      <td>40.80665</td>\n",
       "      <td>-73.96062</td>\n",
       "      <td>31</td>\n",
       "      <td>0</td>\n",
       "      <td>0.00</td>\n",
       "      <td>1</td>\n",
       "      <td>57</td>\n",
       "    </tr>\n",
       "    <tr>\n",
       "      <th>39519</th>\n",
       "      <td>Manhattan</td>\n",
       "      <td>Private room</td>\n",
       "      <td>40.83024</td>\n",
       "      <td>-73.94715</td>\n",
       "      <td>1</td>\n",
       "      <td>1</td>\n",
       "      <td>0.25</td>\n",
       "      <td>6</td>\n",
       "      <td>40</td>\n",
       "    </tr>\n",
       "    <tr>\n",
       "      <th>19050</th>\n",
       "      <td>Manhattan</td>\n",
       "      <td>Entire home/apt</td>\n",
       "      <td>40.74438</td>\n",
       "      <td>-73.97365</td>\n",
       "      <td>1</td>\n",
       "      <td>1</td>\n",
       "      <td>0.03</td>\n",
       "      <td>1</td>\n",
       "      <td>0</td>\n",
       "    </tr>\n",
       "    <tr>\n",
       "      <th>2264</th>\n",
       "      <td>Queens</td>\n",
       "      <td>Private room</td>\n",
       "      <td>40.75959</td>\n",
       "      <td>-73.90835</td>\n",
       "      <td>1</td>\n",
       "      <td>136</td>\n",
       "      <td>1.81</td>\n",
       "      <td>2</td>\n",
       "      <td>359</td>\n",
       "    </tr>\n",
       "  </tbody>\n",
       "</table>\n",
       "<p>29337 rows × 9 columns</p>\n",
       "</div>"
      ],
      "text/plain": [
       "      neighbourhood_group        room_type  latitude  longitude  \\\n",
       "46204           Manhattan     Private room  40.72612  -73.98946   \n",
       "19355           Manhattan  Entire home/apt  40.74068  -74.00295   \n",
       "4350            Manhattan     Private room  40.75293  -73.97173   \n",
       "1894            Manhattan  Entire home/apt  40.73126  -74.00502   \n",
       "47442               Bronx     Private room  40.88587  -73.89865   \n",
       "...                   ...              ...       ...        ...   \n",
       "17559            Brooklyn  Entire home/apt  40.65192  -73.95243   \n",
       "44102           Manhattan  Entire home/apt  40.80665  -73.96062   \n",
       "39519           Manhattan     Private room  40.83024  -73.94715   \n",
       "19050           Manhattan  Entire home/apt  40.74438  -73.97365   \n",
       "2264               Queens     Private room  40.75959  -73.90835   \n",
       "\n",
       "       minimum_nights  number_of_reviews  reviews_per_month  \\\n",
       "46204               3                  0               0.00   \n",
       "19355               2                134               4.17   \n",
       "4350               14                  9               0.14   \n",
       "1894                7                  7               0.10   \n",
       "47442               4                  0               0.00   \n",
       "...               ...                ...                ...   \n",
       "17559               7                  1               0.03   \n",
       "44102              31                  0               0.00   \n",
       "39519               1                  1               0.25   \n",
       "19050               1                  1               0.03   \n",
       "2264                1                136               1.81   \n",
       "\n",
       "       calculated_host_listings_count  availability_365  \n",
       "46204                               3                12  \n",
       "19355                               1                70  \n",
       "4350                                1                21  \n",
       "1894                                1               365  \n",
       "47442                               1                87  \n",
       "...                               ...               ...  \n",
       "17559                               1                 0  \n",
       "44102                               1                57  \n",
       "39519                               6                40  \n",
       "19050                               1                 0  \n",
       "2264                                2               359  \n",
       "\n",
       "[29337 rows x 9 columns]"
      ]
     },
     "execution_count": 111,
     "metadata": {},
     "output_type": "execute_result"
    }
   ],
   "source": [
    "Xtrain"
   ]
  },
  {
   "cell_type": "code",
   "execution_count": null,
   "metadata": {},
   "outputs": [],
   "source": []
  }
 ],
 "metadata": {
  "kernelspec": {
   "display_name": "Python 3",
   "language": "python",
   "name": "python3"
  },
  "language_info": {
   "codemirror_mode": {
    "name": "ipython",
    "version": 3
   },
   "file_extension": ".py",
   "mimetype": "text/x-python",
   "name": "python",
   "nbconvert_exporter": "python",
   "pygments_lexer": "ipython3",
   "version": "3.8.10"
  }
 },
 "nbformat": 4,
 "nbformat_minor": 4
}
