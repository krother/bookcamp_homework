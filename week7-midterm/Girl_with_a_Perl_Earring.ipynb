{
 "cells": [
  {
   "cell_type": "markdown",
   "metadata": {},
   "source": [
    "# Girl with a Perl Earring\n",
    "\n",
    "Data explorationa and model prototype for the midterm project."
   ]
  },
  {
   "cell_type": "markdown",
   "metadata": {},
   "source": [
    "![](images/pearl_earring_small.jpg)\n",
    "[Girl with Pearl Earring by Jan Vermeer](https://commons.wikimedia.org/wiki/File:Girl_with_a_Pearl_Earring.jpg?uselang=de)"
   ]
  },
  {
   "cell_type": "code",
   "execution_count": 7,
   "metadata": {},
   "outputs": [],
   "source": [
    "from PIL import Image\n",
    "import numpy as np\n",
    "import pandas as pd\n",
    "from matplotlib import pyplot as plt\n",
    "\n",
    "from sklearn.model_selection import train_test_split\n",
    "from sklearn.linear_model import LinearRegression, Lasso\n",
    "from sklearn.tree import DecisionTreeRegressor\n",
    "from sklearn.ensemble import RandomForestRegressor\n",
    "from sklearn.svm import SVR\n",
    "\n",
    "from sklearn.pipeline import make_pipeline\n",
    "from sklearn.preprocessing import MinMaxScaler, KBinsDiscretizer, PolynomialFeatures"
   ]
  },
  {
   "cell_type": "code",
   "execution_count": 8,
   "metadata": {},
   "outputs": [
    {
     "data": {
      "text/plain": [
       "(649, 767)"
      ]
     },
     "execution_count": 8,
     "metadata": {},
     "output_type": "execute_result"
    }
   ],
   "source": [
    "im = Image.open('images/pearl_earring.jpg')\n",
    "im.size"
   ]
  },
  {
   "cell_type": "code",
   "execution_count": 9,
   "metadata": {},
   "outputs": [
    {
     "data": {
      "text/plain": [
       "(767, 649, 3)"
      ]
     },
     "execution_count": 9,
     "metadata": {},
     "output_type": "execute_result"
    }
   ],
   "source": [
    "a = np.array(im)\n",
    "a.shape"
   ]
  },
  {
   "cell_type": "code",
   "execution_count": 10,
   "metadata": {},
   "outputs": [
    {
     "data": {
      "text/plain": [
       "(767, 649)"
      ]
     },
     "execution_count": 10,
     "metadata": {},
     "output_type": "execute_result"
    }
   ],
   "source": [
    "cols, rows = im.size\n",
    "rows, cols"
   ]
  },
  {
   "cell_type": "markdown",
   "metadata": {},
   "source": [
    "## 1. Exploratory Analysis"
   ]
  },
  {
   "cell_type": "code",
   "execution_count": 11,
   "metadata": {},
   "outputs": [
    {
     "data": {
      "image/png": "[encoded data removed]",
      "text/plain": [
       "<Figure size 432x288 with 1 Axes>"
      ]
     },
     "metadata": {
      "needs_background": "light"
     },
     "output_type": "display_data"
    }
   ],
   "source": [
    "colorsums = a.sum(axis=(0,1))\n",
    "plt.barh(['red', 'green', 'blue'], colorsums)\n",
    "plt.title('amount of color components')\n",
    "None"
   ]
  },
  {
   "cell_type": "code",
   "execution_count": 12,
   "metadata": {},
   "outputs": [],
   "source": [
    "red = a[:,:,0]\n",
    "green = a[:,:,1]\n",
    "blue = a[:,:,2]"
   ]
  },
  {
   "cell_type": "code",
   "execution_count": 13,
   "metadata": {},
   "outputs": [
    {
     "data": {
      "image/png": "[encoded data removed]",
      "text/plain": [
       "<Figure size 1080x360 with 3 Axes>"
      ]
     },
     "metadata": {
      "needs_background": "light"
     },
     "output_type": "display_data"
    }
   ],
   "source": [
    "plt.figure(figsize=(15,5))\n",
    "plt.subplot(1,3,1)\n",
    "plt.hist(red.flatten(), bins=20, color='red')\n",
    "plt.subplot(1,3,2)\n",
    "plt.hist(green.flatten(), bins=20, color='green')\n",
    "plt.subplot(1,3,3)\n",
    "plt.hist(blue.flatten(), bins=20, color='blue')\n",
    "None"
   ]
  },
  {
   "cell_type": "markdown",
   "metadata": {},
   "source": [
    "apparently, there is lots of dark in the picture ;-). The model will have to deal with that imbalance in the target variable!"
   ]
  },
  {
   "cell_type": "markdown",
   "metadata": {},
   "source": [
    "### 2. Data Wrangling"
   ]
  },
  {
   "cell_type": "code",
   "execution_count": 14,
   "metadata": {},
   "outputs": [],
   "source": [
    "x, y = np.meshgrid(range(cols), range(rows))\n",
    "coords = list(zip(y.flatten(), x.flatten()))"
   ]
  },
  {
   "cell_type": "code",
   "execution_count": 15,
   "metadata": {},
   "outputs": [
    {
     "data": {
      "text/html": [
       "<div>\n",
       "<style scoped>\n",
       "    .dataframe tbody tr th:only-of-type {\n",
       "        vertical-align: middle;\n",
       "    }\n",
       "\n",
       "    .dataframe tbody tr th {\n",
       "        vertical-align: top;\n",
       "    }\n",
       "\n",
       "    .dataframe thead th {\n",
       "        text-align: right;\n",
       "    }\n",
       "</style>\n",
       "<table border=\"1\" class=\"dataframe\">\n",
       "  <thead>\n",
       "    <tr style=\"text-align: right;\">\n",
       "      <th></th>\n",
       "      <th>y</th>\n",
       "      <th>x</th>\n",
       "      <th>red</th>\n",
       "      <th>green</th>\n",
       "      <th>blue</th>\n",
       "    </tr>\n",
       "  </thead>\n",
       "  <tbody>\n",
       "    <tr>\n",
       "      <th>0</th>\n",
       "      <td>0</td>\n",
       "      <td>0</td>\n",
       "      <td>21</td>\n",
       "      <td>22</td>\n",
       "      <td>24</td>\n",
       "    </tr>\n",
       "    <tr>\n",
       "      <th>1</th>\n",
       "      <td>0</td>\n",
       "      <td>1</td>\n",
       "      <td>21</td>\n",
       "      <td>22</td>\n",
       "      <td>24</td>\n",
       "    </tr>\n",
       "    <tr>\n",
       "      <th>2</th>\n",
       "      <td>0</td>\n",
       "      <td>2</td>\n",
       "      <td>21</td>\n",
       "      <td>22</td>\n",
       "      <td>24</td>\n",
       "    </tr>\n",
       "    <tr>\n",
       "      <th>3</th>\n",
       "      <td>0</td>\n",
       "      <td>3</td>\n",
       "      <td>22</td>\n",
       "      <td>23</td>\n",
       "      <td>25</td>\n",
       "    </tr>\n",
       "    <tr>\n",
       "      <th>4</th>\n",
       "      <td>0</td>\n",
       "      <td>4</td>\n",
       "      <td>23</td>\n",
       "      <td>24</td>\n",
       "      <td>26</td>\n",
       "    </tr>\n",
       "  </tbody>\n",
       "</table>\n",
       "</div>"
      ],
      "text/plain": [
       "   y  x  red  green  blue\n",
       "0  0  0   21     22    24\n",
       "1  0  1   21     22    24\n",
       "2  0  2   21     22    24\n",
       "3  0  3   22     23    25\n",
       "4  0  4   23     24    26"
      ]
     },
     "execution_count": 15,
     "metadata": {},
     "output_type": "execute_result"
    }
   ],
   "source": [
    "data = [(yy, xx, red[yy, xx], green[yy, xx], blue[yy, xx]) for yy, xx in coords]\n",
    "df = pd.DataFrame(data, columns=('y', 'x', 'red', 'green', 'blue'))\n",
    "df.head()"
   ]
  },
  {
   "cell_type": "code",
   "execution_count": 16,
   "metadata": {},
   "outputs": [
    {
     "data": {
      "text/html": [
       "<div>\n",
       "<style scoped>\n",
       "    .dataframe tbody tr th:only-of-type {\n",
       "        vertical-align: middle;\n",
       "    }\n",
       "\n",
       "    .dataframe tbody tr th {\n",
       "        vertical-align: top;\n",
       "    }\n",
       "\n",
       "    .dataframe thead th {\n",
       "        text-align: right;\n",
       "    }\n",
       "</style>\n",
       "<table border=\"1\" class=\"dataframe\">\n",
       "  <thead>\n",
       "    <tr style=\"text-align: right;\">\n",
       "      <th></th>\n",
       "      <th>y</th>\n",
       "      <th>x</th>\n",
       "      <th>red</th>\n",
       "      <th>green</th>\n",
       "      <th>blue</th>\n",
       "    </tr>\n",
       "  </thead>\n",
       "  <tbody>\n",
       "    <tr>\n",
       "      <th>count</th>\n",
       "      <td>497783.000000</td>\n",
       "      <td>497783.000000</td>\n",
       "      <td>497783.000000</td>\n",
       "      <td>497783.000000</td>\n",
       "      <td>497783.00000</td>\n",
       "    </tr>\n",
       "    <tr>\n",
       "      <th>mean</th>\n",
       "      <td>383.000000</td>\n",
       "      <td>324.000000</td>\n",
       "      <td>50.967954</td>\n",
       "      <td>46.962417</td>\n",
       "      <td>45.47688</td>\n",
       "    </tr>\n",
       "    <tr>\n",
       "      <th>std</th>\n",
       "      <td>221.413862</td>\n",
       "      <td>187.350128</td>\n",
       "      <td>55.470951</td>\n",
       "      <td>49.652837</td>\n",
       "      <td>42.50617</td>\n",
       "    </tr>\n",
       "    <tr>\n",
       "      <th>min</th>\n",
       "      <td>0.000000</td>\n",
       "      <td>0.000000</td>\n",
       "      <td>0.000000</td>\n",
       "      <td>0.000000</td>\n",
       "      <td>0.00000</td>\n",
       "    </tr>\n",
       "    <tr>\n",
       "      <th>25%</th>\n",
       "      <td>191.000000</td>\n",
       "      <td>162.000000</td>\n",
       "      <td>17.000000</td>\n",
       "      <td>17.000000</td>\n",
       "      <td>21.00000</td>\n",
       "    </tr>\n",
       "    <tr>\n",
       "      <th>50%</th>\n",
       "      <td>383.000000</td>\n",
       "      <td>324.000000</td>\n",
       "      <td>22.000000</td>\n",
       "      <td>22.000000</td>\n",
       "      <td>25.00000</td>\n",
       "    </tr>\n",
       "    <tr>\n",
       "      <th>75%</th>\n",
       "      <td>575.000000</td>\n",
       "      <td>486.000000</td>\n",
       "      <td>64.000000</td>\n",
       "      <td>55.000000</td>\n",
       "      <td>54.00000</td>\n",
       "    </tr>\n",
       "    <tr>\n",
       "      <th>max</th>\n",
       "      <td>766.000000</td>\n",
       "      <td>648.000000</td>\n",
       "      <td>255.000000</td>\n",
       "      <td>255.000000</td>\n",
       "      <td>255.00000</td>\n",
       "    </tr>\n",
       "  </tbody>\n",
       "</table>\n",
       "</div>"
      ],
      "text/plain": [
       "                   y              x            red          green  \\\n",
       "count  497783.000000  497783.000000  497783.000000  497783.000000   \n",
       "mean      383.000000     324.000000      50.967954      46.962417   \n",
       "std       221.413862     187.350128      55.470951      49.652837   \n",
       "min         0.000000       0.000000       0.000000       0.000000   \n",
       "25%       191.000000     162.000000      17.000000      17.000000   \n",
       "50%       383.000000     324.000000      22.000000      22.000000   \n",
       "75%       575.000000     486.000000      64.000000      55.000000   \n",
       "max       766.000000     648.000000     255.000000     255.000000   \n",
       "\n",
       "               blue  \n",
       "count  497783.00000  \n",
       "mean       45.47688  \n",
       "std        42.50617  \n",
       "min         0.00000  \n",
       "25%        21.00000  \n",
       "50%        25.00000  \n",
       "75%        54.00000  \n",
       "max       255.00000  "
      ]
     },
     "execution_count": 16,
     "metadata": {},
     "output_type": "execute_result"
    }
   ],
   "source": [
    "df.describe()"
   ]
  },
  {
   "cell_type": "markdown",
   "metadata": {},
   "source": [
    "#### Remove dark pixels to see the rest of the histogram"
   ]
  },
  {
   "cell_type": "code",
   "execution_count": 17,
   "metadata": {},
   "outputs": [],
   "source": [
    "coldf = df[(df['red']>50)|(df['green']>50)|(df['blue']>50)]"
   ]
  },
  {
   "cell_type": "code",
   "execution_count": 18,
   "metadata": {},
   "outputs": [
    {
     "data": {
      "text/html": [
       "<div>\n",
       "<style scoped>\n",
       "    .dataframe tbody tr th:only-of-type {\n",
       "        vertical-align: middle;\n",
       "    }\n",
       "\n",
       "    .dataframe tbody tr th {\n",
       "        vertical-align: top;\n",
       "    }\n",
       "\n",
       "    .dataframe thead th {\n",
       "        text-align: right;\n",
       "    }\n",
       "</style>\n",
       "<table border=\"1\" class=\"dataframe\">\n",
       "  <thead>\n",
       "    <tr style=\"text-align: right;\">\n",
       "      <th></th>\n",
       "      <th>y</th>\n",
       "      <th>x</th>\n",
       "      <th>red</th>\n",
       "      <th>green</th>\n",
       "      <th>blue</th>\n",
       "    </tr>\n",
       "  </thead>\n",
       "  <tbody>\n",
       "    <tr>\n",
       "      <th>count</th>\n",
       "      <td>152495.000000</td>\n",
       "      <td>152495.000000</td>\n",
       "      <td>152495.000000</td>\n",
       "      <td>152495.000000</td>\n",
       "      <td>152495.000000</td>\n",
       "    </tr>\n",
       "    <tr>\n",
       "      <th>mean</th>\n",
       "      <td>425.926876</td>\n",
       "      <td>374.752156</td>\n",
       "      <td>119.635614</td>\n",
       "      <td>107.673773</td>\n",
       "      <td>94.888468</td>\n",
       "    </tr>\n",
       "    <tr>\n",
       "      <th>std</th>\n",
       "      <td>187.059126</td>\n",
       "      <td>98.351920</td>\n",
       "      <td>55.803627</td>\n",
       "      <td>51.067196</td>\n",
       "      <td>47.865870</td>\n",
       "    </tr>\n",
       "    <tr>\n",
       "      <th>min</th>\n",
       "      <td>0.000000</td>\n",
       "      <td>0.000000</td>\n",
       "      <td>0.000000</td>\n",
       "      <td>12.000000</td>\n",
       "      <td>0.000000</td>\n",
       "    </tr>\n",
       "    <tr>\n",
       "      <th>25%</th>\n",
       "      <td>264.000000</td>\n",
       "      <td>300.000000</td>\n",
       "      <td>74.000000</td>\n",
       "      <td>64.000000</td>\n",
       "      <td>58.000000</td>\n",
       "    </tr>\n",
       "    <tr>\n",
       "      <th>50%</th>\n",
       "      <td>415.000000</td>\n",
       "      <td>361.000000</td>\n",
       "      <td>115.000000</td>\n",
       "      <td>102.000000</td>\n",
       "      <td>78.000000</td>\n",
       "    </tr>\n",
       "    <tr>\n",
       "      <th>75%</th>\n",
       "      <td>584.000000</td>\n",
       "      <td>438.000000</td>\n",
       "      <td>157.000000</td>\n",
       "      <td>142.000000</td>\n",
       "      <td>126.000000</td>\n",
       "    </tr>\n",
       "    <tr>\n",
       "      <th>max</th>\n",
       "      <td>766.000000</td>\n",
       "      <td>648.000000</td>\n",
       "      <td>255.000000</td>\n",
       "      <td>255.000000</td>\n",
       "      <td>255.000000</td>\n",
       "    </tr>\n",
       "  </tbody>\n",
       "</table>\n",
       "</div>"
      ],
      "text/plain": [
       "                   y              x            red          green  \\\n",
       "count  152495.000000  152495.000000  152495.000000  152495.000000   \n",
       "mean      425.926876     374.752156     119.635614     107.673773   \n",
       "std       187.059126      98.351920      55.803627      51.067196   \n",
       "min         0.000000       0.000000       0.000000      12.000000   \n",
       "25%       264.000000     300.000000      74.000000      64.000000   \n",
       "50%       415.000000     361.000000     115.000000     102.000000   \n",
       "75%       584.000000     438.000000     157.000000     142.000000   \n",
       "max       766.000000     648.000000     255.000000     255.000000   \n",
       "\n",
       "                blue  \n",
       "count  152495.000000  \n",
       "mean       94.888468  \n",
       "std        47.865870  \n",
       "min         0.000000  \n",
       "25%        58.000000  \n",
       "50%        78.000000  \n",
       "75%       126.000000  \n",
       "max       255.000000  "
      ]
     },
     "execution_count": 18,
     "metadata": {},
     "output_type": "execute_result"
    }
   ],
   "source": [
    "coldf.describe()"
   ]
  },
  {
   "cell_type": "code",
   "execution_count": 19,
   "metadata": {},
   "outputs": [
    {
     "data": {
      "image/png": "[encoded data removed]",
      "text/plain": [
       "<Figure size 1080x360 with 3 Axes>"
      ]
     },
     "metadata": {
      "needs_background": "light"
     },
     "output_type": "display_data"
    }
   ],
   "source": [
    "plt.figure(figsize=(15,5))\n",
    "plt.subplot(1,3,1)\n",
    "plt.hist(coldf['red'], bins=20, color='red')\n",
    "plt.subplot(1,3,2)\n",
    "plt.hist(coldf['green'], bins=20, color='green')\n",
    "plt.subplot(1,3,3)\n",
    "plt.hist(coldf['blue'], bins=20, color='blue')\n",
    "None"
   ]
  },
  {
   "cell_type": "markdown",
   "metadata": {},
   "source": [
    "### 3. Train-Test-Split\n",
    "\n",
    "train 60% , val 20%, test 20%"
   ]
  },
  {
   "cell_type": "code",
   "execution_count": 20,
   "metadata": {},
   "outputs": [],
   "source": [
    "tval, test = train_test_split(df, test_size=0.2, random_state=42)\n",
    "train, val = train_test_split(df, test_size=0.25, random_state=42)"
   ]
  },
  {
   "cell_type": "markdown",
   "metadata": {},
   "source": [
    "### 4. Predict Red / Green / Blue from coordinates"
   ]
  },
  {
   "cell_type": "code",
   "execution_count": 21,
   "metadata": {},
   "outputs": [],
   "source": [
    "def rgb_model(m, train, val):\n",
    "    \"\"\"\n",
    "    Trains a model separately for 3 color channels.\n",
    "    Then predicts the color for each color channel \n",
    "    separately and returns the resulting image\n",
    "    \"\"\"\n",
    "    Xtrain = train[['x', 'y']]\n",
    "    Xval = val[['x', 'y']]\n",
    "    result = np.zeros((rows, cols, 3), dtype=np.uint8)\n",
    "    \n",
    "    for i, col in enumerate(['red', 'green', 'blue']):\n",
    "        col_train = train[col]\n",
    "        col_val = val[col]\n",
    "    \n",
    "        m.fit(Xtrain, col_train)\n",
    "        trainscore = m.score(Xtrain, col_train)\n",
    "        valscore = m.score(Xval, col_val)\n",
    "        print(f'{col}\\t'\n",
    "              f'training R²   : {trainscore:6.3f}\\t'\n",
    "              f'validation R² : {valscore:6.3f}') \n",
    "\n",
    "        pred = m.predict(df[['x', 'y']])\n",
    "        pred = pred.reshape((rows, cols)).astype(np.uint8)\n",
    "        result[:,:,i] = pred\n",
    "        \n",
    "    return Image.fromarray(result)"
   ]
  },
  {
   "cell_type": "code",
   "execution_count": 22,
   "metadata": {},
   "outputs": [],
   "source": [
    "def halfsize(im):\n",
    "    return im.resize((im.size[0]//2, im.size[1]//2))"
   ]
  },
  {
   "cell_type": "markdown",
   "metadata": {},
   "source": [
    "#### 4.1 Vanilla LinReg"
   ]
  },
  {
   "cell_type": "code",
   "execution_count": 23,
   "metadata": {},
   "outputs": [
    {
     "name": "stdout",
     "output_type": "stream",
     "text": [
      "red\ttraining R²   :  0.032\tvalidation R² :  0.032\n",
      "green\ttraining R²   :  0.029\tvalidation R² :  0.030\n",
      "blue\ttraining R²   :  0.017\tvalidation R² :  0.017\n"
     ]
    },
    {
     "data": {
      "image/png": "[encoded data removed]",
      "text/plain": [
       "<PIL.Image.Image image mode=RGB size=324x383 at 0x7FC95769B610>"
      ]
     },
     "execution_count": 23,
     "metadata": {},
     "output_type": "execute_result"
    }
   ],
   "source": [
    "m = LinearRegression()\n",
    "halfsize(rgb_model(m, train, val))"
   ]
  },
  {
   "cell_type": "markdown",
   "metadata": {},
   "source": [
    "we see pretty much nothing. Apparently, 9 model parameters are not enough to fit a Vermeer. It might be sufficient to fit an elephant though."
   ]
  },
  {
   "cell_type": "markdown",
   "metadata": {},
   "source": [
    "#### 4.2 Bins with interaction terms\n",
    "\n",
    "Here we apply two feature engineering tricks: cutting each feature into slices and then multiplying the x and y slices.\n",
    "Effectively, this divides the data into little rectangles that the model can recognize individually."
   ]
  },
  {
   "cell_type": "code",
   "execution_count": 24,
   "metadata": {},
   "outputs": [
    {
     "name": "stdout",
     "output_type": "stream",
     "text": [
      "red\ttraining R²   :  0.704\tvalidation R² :  0.703\n",
      "green\ttraining R²   :  0.683\tvalidation R² :  0.682\n",
      "blue\ttraining R²   :  0.679\tvalidation R² :  0.677\n"
     ]
    },
    {
     "data": {
      "image/png": "[encoded data removed]",
      "text/plain": [
       "<PIL.Image.Image image mode=RGB size=324x383 at 0x7FC94B47DBB0>"
      ]
     },
     "execution_count": 24,
     "metadata": {},
     "output_type": "execute_result"
    }
   ],
   "source": [
    "m = make_pipeline(\n",
    "    KBinsDiscretizer(n_bins=15, encode='onehot'),\n",
    "    PolynomialFeatures(interaction_only=True),\n",
    "    LinearRegression()\n",
    ")\n",
    "halfsize(rgb_model(m, train, val))"
   ]
  },
  {
   "cell_type": "markdown",
   "metadata": {},
   "source": [
    "#### 4.3 Decision Tree"
   ]
  },
  {
   "cell_type": "markdown",
   "metadata": {},
   "source": [
    "With a decision tree regressor, we let the model find out the bin boundaries itself.\n",
    "This gives a nice effect because the boundaries are different for each color channel."
   ]
  },
  {
   "cell_type": "code",
   "execution_count": 25,
   "metadata": {},
   "outputs": [
    {
     "name": "stdout",
     "output_type": "stream",
     "text": [
      "red\ttraining R²   :  0.826\tvalidation R² :  0.823\n",
      "green\ttraining R²   :  0.802\tvalidation R² :  0.798\n",
      "blue\ttraining R²   :  0.821\tvalidation R² :  0.814\n"
     ]
    },
    {
     "data": {
      "image/png": "[encoded data removed]",
      "text/plain": [
       "<PIL.Image.Image image mode=RGB size=324x383 at 0x7FC94B2E8910>"
      ]
     },
     "execution_count": 25,
     "metadata": {},
     "output_type": "execute_result"
    }
   ],
   "source": [
    "m = DecisionTreeRegressor(max_depth=10)\n",
    "halfsize(rgb_model(m, train, val))"
   ]
  },
  {
   "cell_type": "markdown",
   "metadata": {},
   "source": [
    "#### 4.4 RandomForest\n",
    "The outcome of a Random Forest is not that much different. The RF works best when it has many features to (randomly) choose from. I tried to let the RF work on binned data but it only made the calculation last longer."
   ]
  },
  {
   "cell_type": "code",
   "execution_count": 26,
   "metadata": {},
   "outputs": [
    {
     "name": "stdout",
     "output_type": "stream",
     "text": [
      "red\ttraining R²   :  0.796\tvalidation R² :  0.768\n",
      "green\ttraining R²   :  0.764\tvalidation R² :  0.746\n",
      "blue\ttraining R²   :  0.788\tvalidation R² :  0.758\n"
     ]
    },
    {
     "data": {
      "image/png": "[encoded data removed]",
      "text/plain": [
       "<PIL.Image.Image image mode=RGB size=324x383 at 0x7FC94B2E87C0>"
      ]
     },
     "execution_count": 26,
     "metadata": {},
     "output_type": "execute_result"
    }
   ],
   "source": [
    "m = RandomForestRegressor(n_estimators=10, max_depth=8)\n",
    "halfsize(rgb_model(m, train[:10000], val[:10000]))"
   ]
  },
  {
   "cell_type": "markdown",
   "metadata": {},
   "source": [
    "#### 4.5 Support Vector Machine\n",
    "\n",
    "The SVM applies some weird math that is potentially beautiful. I train it on 1000 pixels only because the SVM scales badly for big datasets. It doesn't work too well, as the SVM is also strongest with lots of features."
   ]
  },
  {
   "cell_type": "code",
   "execution_count": 27,
   "metadata": {},
   "outputs": [
    {
     "name": "stdout",
     "output_type": "stream",
     "text": [
      "red\ttraining R²   :  0.708\tvalidation R² :  0.588\n",
      "green\ttraining R²   :  0.692\tvalidation R² :  0.567\n",
      "blue\ttraining R²   :  0.694\tvalidation R² :  0.564\n"
     ]
    },
    {
     "data": {
      "image/png": "[encoded data removed]",
      "text/plain": [
       "<PIL.Image.Image image mode=RGB size=324x383 at 0x7FC94B40F9A0>"
      ]
     },
     "execution_count": 27,
     "metadata": {},
     "output_type": "execute_result"
    }
   ],
   "source": [
    "m = make_pipeline(\n",
    "    KBinsDiscretizer(n_bins=15, encode='onehot-dense'),\n",
    "    MinMaxScaler(),\n",
    "    SVR(C=1000.0, kernel='rbf')\n",
    ")\n",
    "halfsize(rgb_model(m, train[:1000], val[:1000]))"
   ]
  },
  {
   "cell_type": "markdown",
   "metadata": {},
   "source": [
    "The result is kind of the same as the LinReg, so I'll prefer the simpler (and much faster) one."
   ]
  },
  {
   "cell_type": "markdown",
   "metadata": {},
   "source": [
    "\n",
    "## Conclusion"
   ]
  },
  {
   "cell_type": "markdown",
   "metadata": {},
   "source": [
    "I'd like to use the binned LinReg and the DecisionTree to let users upload their own data."
   ]
  },
  {
   "cell_type": "code",
   "execution_count": null,
   "metadata": {},
   "outputs": [],
   "source": []
  }
 ],
 "metadata": {
  "kernelspec": {
   "display_name": "Python 3",
   "language": "python",
   "name": "python3"
  },
  "language_info": {
   "codemirror_mode": {
    "name": "ipython",
    "version": 3
   },
   "file_extension": ".py",
   "mimetype": "text/x-python",
   "name": "python",
   "nbconvert_exporter": "python",
   "pygments_lexer": "ipython3",
   "version": "3.8.10"
  }
 },
 "nbformat": 4,
 "nbformat_minor": 4
}
