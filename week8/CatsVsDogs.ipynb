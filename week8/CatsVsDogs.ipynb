{
 "cells": [
  {
   "cell_type": "code",
   "execution_count": 37,
   "metadata": {},
   "outputs": [],
   "source": [
    "from tensorflow.keras import backend as K\n",
    "from tensorflow.keras.models import Sequential\n",
    "from tensorflow.keras.layers import Dense,Flatten,Dropout,BatchNormalization,Conv2D,MaxPool2D\n",
    "from tensorflow.keras.optimizers import SGD\n",
    "from tensorflow.keras.preprocessing.image import ImageDataGenerator\n",
    "\n",
    "import numpy as np\n",
    "import pandas as pd"
   ]
  },
  {
   "cell_type": "code",
   "execution_count": 23,
   "metadata": {},
   "outputs": [],
   "source": [
    "K.clear_session()\n",
    "\n",
    "m = Sequential([\n",
    "    Conv2D(32, kernel_size=(3, 3), activation='relu', input_shape=(150, 150, 3)),\n",
    "    MaxPool2D((2, 2)),\n",
    "    Flatten(),\n",
    "    Dense(64, activation='relu'),\n",
    "    Dense(1, activation='sigmoid'),\n",
    "])"
   ]
  },
  {
   "cell_type": "code",
   "execution_count": 24,
   "metadata": {},
   "outputs": [
    {
     "name": "stdout",
     "output_type": "stream",
     "text": [
      "Model: \"sequential\"\n",
      "_________________________________________________________________\n",
      "Layer (type)                 Output Shape              Param #   \n",
      "=================================================================\n",
      "conv2d (Conv2D)              (None, 148, 148, 32)      896       \n",
      "_________________________________________________________________\n",
      "max_pooling2d (MaxPooling2D) (None, 74, 74, 32)        0         \n",
      "_________________________________________________________________\n",
      "flatten (Flatten)            (None, 175232)            0         \n",
      "_________________________________________________________________\n",
      "dense (Dense)                (None, 64)                11214912  \n",
      "_________________________________________________________________\n",
      "dense_1 (Dense)              (None, 1)                 65        \n",
      "=================================================================\n",
      "Total params: 11,215,873\n",
      "Trainable params: 11,215,873\n",
      "Non-trainable params: 0\n",
      "_________________________________________________________________\n"
     ]
    }
   ],
   "source": [
    "m.summary()"
   ]
  },
  {
   "cell_type": "code",
   "execution_count": 25,
   "metadata": {},
   "outputs": [],
   "source": [
    "opti = SGD(lr=0.002, momentum=0.8)\n",
    "m.compile(optimizer=opti, loss='binary_crossentropy', metrics=['accuracy'])"
   ]
  },
  {
   "cell_type": "code",
   "execution_count": 26,
   "metadata": {},
   "outputs": [
    {
     "name": "stdout",
     "output_type": "stream",
     "text": [
      "Found 20000 images belonging to 2 classes.\n",
      "Found 5000 images belonging to 2 classes.\n"
     ]
    }
   ],
   "source": [
    "gen = ImageDataGenerator(rescale=1./255)\n",
    "train = gen.flow_from_directory(\n",
    "        'train',\n",
    "        target_size=(150, 150),\n",
    "        batch_size=20,\n",
    "        shuffle=True,\n",
    "        class_mode='binary')\n",
    "\n",
    "val = gen.flow_from_directory(\n",
    "        'validation',\n",
    "        target_size=(150, 150),\n",
    "        batch_size=20,\n",
    "        shuffle=True,\n",
    "        class_mode='binary')"
   ]
  },
  {
   "cell_type": "code",
   "execution_count": 27,
   "metadata": {
    "scrolled": true
   },
   "outputs": [
    {
     "name": "stdout",
     "output_type": "stream",
     "text": [
      "Epoch 1/10\n",
      "100/100 [==============================] - 10s 98ms/step - loss: 0.7042 - accuracy: 0.5151 - val_loss: 0.6913 - val_accuracy: 0.5730\n",
      "Epoch 2/10\n",
      "100/100 [==============================] - 10s 97ms/step - loss: 0.6915 - accuracy: 0.5264 - val_loss: 0.6890 - val_accuracy: 0.5010\n",
      "Epoch 3/10\n",
      "100/100 [==============================] - 10s 99ms/step - loss: 0.6879 - accuracy: 0.5386 - val_loss: 0.6922 - val_accuracy: 0.4930\n",
      "Epoch 4/10\n",
      "100/100 [==============================] - 10s 102ms/step - loss: 0.6855 - accuracy: 0.5541 - val_loss: 0.6822 - val_accuracy: 0.5770\n",
      "Epoch 5/10\n",
      "100/100 [==============================] - 10s 103ms/step - loss: 0.6781 - accuracy: 0.5801 - val_loss: 0.6774 - val_accuracy: 0.5730\n",
      "Epoch 6/10\n",
      "100/100 [==============================] - 10s 103ms/step - loss: 0.6820 - accuracy: 0.5590 - val_loss: 0.6820 - val_accuracy: 0.5460\n",
      "Epoch 7/10\n",
      "100/100 [==============================] - 10s 104ms/step - loss: 0.6768 - accuracy: 0.5551 - val_loss: 0.6742 - val_accuracy: 0.5710\n",
      "Epoch 8/10\n",
      "100/100 [==============================] - 10s 104ms/step - loss: 0.6578 - accuracy: 0.6046 - val_loss: 0.6567 - val_accuracy: 0.5930\n",
      "Epoch 9/10\n",
      "100/100 [==============================] - 10s 105ms/step - loss: 0.6645 - accuracy: 0.6074 - val_loss: 0.6773 - val_accuracy: 0.5720\n",
      "Epoch 10/10\n",
      "100/100 [==============================] - 10s 103ms/step - loss: 0.6641 - accuracy: 0.5981 - val_loss: 0.7000 - val_accuracy: 0.5540\n"
     ]
    }
   ],
   "source": [
    "h = m.fit(\n",
    "    train,\n",
    "    steps_per_epoch=100,\n",
    "    epochs=10,\n",
    "    validation_data=val,\n",
    "    validation_steps=50\n",
    ")"
   ]
  },
  {
   "cell_type": "code",
   "execution_count": 32,
   "metadata": {},
   "outputs": [
    {
     "data": {
      "text/plain": [
       "0.5687499940395355"
      ]
     },
     "execution_count": 32,
     "metadata": {},
     "output_type": "execute_result"
    }
   ],
   "source": [
    "pd.Series(h.history['accuracy']).median()"
   ]
  },
  {
   "cell_type": "code",
   "execution_count": 33,
   "metadata": {},
   "outputs": [
    {
     "data": {
      "text/plain": [
       "0.013343046002516111"
      ]
     },
     "execution_count": 33,
     "metadata": {},
     "output_type": "execute_result"
    }
   ],
   "source": [
    "pd.Series(h.history['loss']).std()"
   ]
  },
  {
   "cell_type": "code",
   "execution_count": 35,
   "metadata": {},
   "outputs": [
    {
     "name": "stdout",
     "output_type": "stream",
     "text": [
      "Found 20000 images belonging to 2 classes.\n",
      "Found 5000 images belonging to 2 classes.\n"
     ]
    }
   ],
   "source": [
    "gen2 = ImageDataGenerator(rescale=1./255,\n",
    "    rotation_range=40,\n",
    "    width_shift_range=0.2,\n",
    "    height_shift_range=0.2,\n",
    "    shear_range=0.2,\n",
    "    zoom_range=0.2,\n",
    "    horizontal_flip=True,\n",
    "    fill_mode='nearest'\n",
    ")\n",
    "\n",
    "train2 = gen.flow_from_directory(\n",
    "        'train',\n",
    "        target_size=(150, 150),\n",
    "        batch_size=20,\n",
    "        shuffle=True,\n",
    "        class_mode='binary')\n",
    "\n",
    "val2 = gen.flow_from_directory(\n",
    "        'validation',\n",
    "        target_size=(150, 150),\n",
    "        batch_size=20,\n",
    "        shuffle=True,\n",
    "        class_mode='binary')   "
   ]
  },
  {
   "cell_type": "code",
   "execution_count": 36,
   "metadata": {},
   "outputs": [
    {
     "name": "stdout",
     "output_type": "stream",
     "text": [
      "Epoch 1/10\n",
      "100/100 [==============================] - 9s 94ms/step - loss: 0.6556 - accuracy: 0.6055 - val_loss: 0.6469 - val_accuracy: 0.6210\n",
      "Epoch 2/10\n",
      "100/100 [==============================] - 10s 95ms/step - loss: 0.6543 - accuracy: 0.6075 - val_loss: 0.6512 - val_accuracy: 0.6170\n",
      "Epoch 3/10\n",
      "100/100 [==============================] - 10s 97ms/step - loss: 0.6395 - accuracy: 0.6290 - val_loss: 0.6461 - val_accuracy: 0.6160\n",
      "Epoch 4/10\n",
      "100/100 [==============================] - 10s 100ms/step - loss: 0.6440 - accuracy: 0.6110 - val_loss: 0.6333 - val_accuracy: 0.6520\n",
      "Epoch 5/10\n",
      "100/100 [==============================] - 10s 102ms/step - loss: 0.6404 - accuracy: 0.6230 - val_loss: 0.6394 - val_accuracy: 0.6210\n",
      "Epoch 6/10\n",
      "100/100 [==============================] - 10s 102ms/step - loss: 0.6411 - accuracy: 0.6225 - val_loss: 0.6790 - val_accuracy: 0.5650\n",
      "Epoch 7/10\n",
      "100/100 [==============================] - 10s 101ms/step - loss: 0.6315 - accuracy: 0.6350 - val_loss: 0.6294 - val_accuracy: 0.6300\n",
      "Epoch 8/10\n",
      "100/100 [==============================] - 10s 99ms/step - loss: 0.6289 - accuracy: 0.6320 - val_loss: 0.6146 - val_accuracy: 0.6730\n",
      "Epoch 9/10\n",
      "100/100 [==============================] - 10s 101ms/step - loss: 0.6273 - accuracy: 0.6460 - val_loss: 0.6240 - val_accuracy: 0.6570\n",
      "Epoch 10/10\n",
      "100/100 [==============================] - 10s 101ms/step - loss: 0.6224 - accuracy: 0.6455 - val_loss: 0.6260 - val_accuracy: 0.6390\n"
     ]
    }
   ],
   "source": [
    "h = m.fit(\n",
    "    train2,\n",
    "    steps_per_epoch=100,\n",
    "    epochs=10,\n",
    "    validation_data=val2,\n",
    "    validation_steps=50\n",
    ")"
   ]
  },
  {
   "cell_type": "code",
   "execution_count": 38,
   "metadata": {},
   "outputs": [
    {
     "data": {
      "text/plain": [
       "0.6389803051948547"
      ]
     },
     "execution_count": 38,
     "metadata": {},
     "output_type": "execute_result"
    }
   ],
   "source": [
    "pd.Series(h.history['val_loss']).mean()"
   ]
  },
  {
   "cell_type": "code",
   "execution_count": 39,
   "metadata": {},
   "outputs": [
    {
     "data": {
      "text/plain": [
       "0.6327999949455261"
      ]
     },
     "execution_count": 39,
     "metadata": {},
     "output_type": "execute_result"
    }
   ],
   "source": [
    "pd.Series(h.history['val_accuracy'][-5:]).mean()"
   ]
  },
  {
   "cell_type": "code",
   "execution_count": null,
   "metadata": {},
   "outputs": [],
   "source": []
  }
 ],
 "metadata": {
  "kernelspec": {
   "display_name": "Python 3",
   "language": "python",
   "name": "python3"
  },
  "language_info": {
   "codemirror_mode": {
    "name": "ipython",
    "version": 3
   },
   "file_extension": ".py",
   "mimetype": "text/x-python",
   "name": "python",
   "nbconvert_exporter": "python",
   "pygments_lexer": "ipython3",
   "version": "3.8.10"
  }
 },
 "nbformat": 4,
 "nbformat_minor": 4
}
